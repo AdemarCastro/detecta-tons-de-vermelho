{
 "cells": [
  {
   "cell_type": "markdown",
   "id": "1becccf6",
   "metadata": {},
   "source": [
    "## 1ª PARTE - Construção do algoritmo e teste com o vídeo do Caleido"
   ]
  },
  {
   "cell_type": "code",
   "execution_count": 7,
   "id": "c76af31b",
   "metadata": {},
   "outputs": [],
   "source": [
    "import cv2\n",
    "import numpy as np\n",
    "\n",
    "path = \"C:/Users/Adema.DESKTOP-MKK2GAA/Desktop/Programing Tools/teti/teti_video/\"\n",
    "cap = cv2.VideoCapture(path + \"caleido.mp4\")\n",
    "\n",
    "# Seleção dos níveis de vermelho que serão mesclados\n",
    "vermelho_escuro1 = np.array([0, 50, 50])\n",
    "vermelho_claro1 = np.array([3, 255, 255])\n",
    "vermelho_escuro2 = np.array([170, 100, 100])\n",
    "vermelho_claro2 = np.array([200, 255, 255])\n",
    "vermelho_escuro3 = np.array([170, 50, 50])\n",
    "vermelho_claro3 = np.array([180, 255, 255])\n",
    "\n",
    "# Loop que irá ler quadro a quadro o vídeo\n",
    "while True:\n",
    "    \n",
    "    ret, frame = cap.read() # Captura frame a frame\n",
    "  \n",
    "    if ret: \n",
    "        # Converte para HSV\n",
    "        hsv = cv2.cvtColor(frame, cv2.COLOR_BGR2HSV)\n",
    "\n",
    "        # Soma todas as camadas de vermelho em uma só\n",
    "        mascara = cv2.inRange(hsv, vermelho_escuro1, vermelho_claro1)\n",
    "        mascara += cv2.inRange(hsv, vermelho_escuro2, vermelho_claro2)\n",
    "        mascara += cv2.inRange(hsv, vermelho_escuro3, vermelho_claro3)\n",
    "\n",
    "        pixel_vermelho = cv2.bitwise_and(frame, frame, mask=mascara) # Bitwise mescla as máscaras em apenas uma\n",
    "\n",
    "        cv2.imshow('Pixel Vermelho', pixel_vermelho) # Exibe o vídeo com apenas a região vermelha\n",
    "    else:\n",
    "        \n",
    "        break # Encerra o vídeo ao não ter mais quadros para ler\n",
    "        \n",
    "     # Caso queira encerrar o vídeo basta pressionar ENTER\n",
    "    if cv2.waitKey(1) == 13:\n",
    "        break\n",
    "        \n",
    "# Essa parte do código libera o espaço na memória\n",
    "cap.release()\n",
    "cv2.destroyAllWindows()"
   ]
  },
  {
   "cell_type": "markdown",
   "id": "c2cb87f1",
   "metadata": {},
   "source": [
    "## 2ª PARTE - Teste do algoritmo com o vídeo da Montanha Russa"
   ]
  },
  {
   "cell_type": "code",
   "execution_count": 8,
   "id": "3417f0fa",
   "metadata": {},
   "outputs": [],
   "source": [
    "import cv2\n",
    "import numpy as np\n",
    "\n",
    "path = \"C:/Users/Adema.DESKTOP-MKK2GAA/Desktop/Programing Tools/teti/teti_video/\"\n",
    "cap = cv2.VideoCapture(path + \"mont_russa.mp4\")\n",
    "\n",
    "# Seleção dos níveis de vermelho que serão mesclados\n",
    "vermelho_escuro1 = np.array([0, 50, 50])\n",
    "vermelho_claro1 = np.array([3, 255, 255])\n",
    "vermelho_escuro2 = np.array([170, 100, 100])\n",
    "vermelho_claro2 = np.array([200, 255, 255])\n",
    "vermelho_escuro3 = np.array([170, 50, 50])\n",
    "vermelho_claro3 = np.array([180, 255, 255])\n",
    "\n",
    "# Loop que irá ler quadro a quadro o vídeo\n",
    "while True:\n",
    "    \n",
    "    ret, frame = cap.read() # Captura frame a frame\n",
    "  \n",
    "    if ret: \n",
    "        # Converte para HSV\n",
    "        hsv = cv2.cvtColor(frame, cv2.COLOR_BGR2HSV)\n",
    "\n",
    "        # Soma todas as camadas de vermelho em uma só\n",
    "        mascara = cv2.inRange(hsv, vermelho_escuro1, vermelho_claro1)\n",
    "        mascara += cv2.inRange(hsv, vermelho_escuro2, vermelho_claro2)\n",
    "        mascara += cv2.inRange(hsv, vermelho_escuro3, vermelho_claro3)\n",
    "\n",
    "        pixel_vermelho = cv2.bitwise_and(frame, frame, mask=mascara) # Bitwise mescla as máscaras em apenas uma\n",
    "\n",
    "        cv2.imshow('Pixel Vermelho', pixel_vermelho) # Exibe o vídeo com apenas a região vermelha\n",
    "    else:\n",
    "        \n",
    "        break # Encerra o vídeo ao não ter mais quadros para ler\n",
    "        \n",
    "     # Caso queira encerrar o vídeo basta pressionar ENTER\n",
    "    if cv2.waitKey(1) == 13:\n",
    "        break\n",
    "\n",
    "# Essa parte do código libera o espaço na memória\n",
    "cap.release()\n",
    "cv2.destroyAllWindows()"
   ]
  },
  {
   "cell_type": "markdown",
   "id": "a59b21b9",
   "metadata": {},
   "source": [
    "## Conclusão sobre o trabalho"
   ]
  },
  {
   "cell_type": "markdown",
   "id": "7b7b79b1",
   "metadata": {},
   "source": [
    "### No meu trabalho, optei por utilizar vários níveis de cores diferentes de vermelho, uma vez que é necessário adaptar o algoritmo para detectar vários tons de vermelho em diferentes situações. Para isso, implementei um laço de repetição para capturar os frames do vídeo e, em seguida, utilizei a função de conversão de cores para HSV.Posteriormente, criei máscaras para cada faixa de valores de cor usando a função inRange e, em seguida, as mesclei em uma única máscara usando a função bitwise_and, a qual é essencial para juntar todos os níveis de cores.Por fim, implementei um bloco if para permitir ao usuário encerrar o vídeo quando desejado, visto que a ausência dessa opção estava me causando frustração. (╯°□°）╯︵ ┻━┻."
   ]
  }
 ],
 "metadata": {
  "kernelspec": {
   "display_name": "Python 3 (ipykernel)",
   "language": "python",
   "name": "python3"
  },
  "language_info": {
   "codemirror_mode": {
    "name": "ipython",
    "version": 3
   },
   "file_extension": ".py",
   "mimetype": "text/x-python",
   "name": "python",
   "nbconvert_exporter": "python",
   "pygments_lexer": "ipython3",
   "version": "3.11.2"
  }
 },
 "nbformat": 4,
 "nbformat_minor": 5
}
